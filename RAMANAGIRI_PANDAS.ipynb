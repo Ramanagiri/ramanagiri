{
  "nbformat": 4,
  "nbformat_minor": 0,
  "metadata": {
    "colab": {
      "provenance": []
    },
    "kernelspec": {
      "name": "python3",
      "display_name": "Python 3"
    },
    "language_info": {
      "name": "python"
    }
  },
  "cells": [
    {
      "cell_type": "code",
      "source": [],
      "metadata": {
        "id": "zKpRZh5YBc5i"
      },
      "execution_count": null,
      "outputs": []
    },
    {
      "cell_type": "markdown",
      "source": [
        "# RA2011003010528\n",
        "# A RAMANAGIRI\n",
        "# PANDAS ASSIGNMENT"
      ],
      "metadata": {
        "id": "3wPlh6M4BiK9"
      }
    },
    {
      "cell_type": "code",
      "source": [
        "\n",
        "import pandas as pd\n",
        "import numpy as np\n",
        "\n",
        "#CREATING A DATAFRAME\n",
        "\n",
        "ONLINE_CLASSES= {\n",
        "    'Courses':[\"HTML\",\"Spark\",\"PySpark\",\"Hadoop\",\"Python\",\"Pandas\"],\n",
        "    'Fee' :[60000,22000,25000,23000,24000,26000],\n",
        "    'Duration':['20days','30days','50days','30days', None,np.nan],\n",
        "    'Discount':[6000,1000,2300,1000,1200,2500]\n",
        "          }\n",
        "df = pd.DataFrame(ONLINE_CLASSES)\n",
        "print(df)\n"
      ],
      "metadata": {
        "colab": {
          "base_uri": "https://localhost:8080/"
        },
        "id": "v9sZ53d4AfIf",
        "outputId": "d5b3c121-c09b-46e8-e766-8dc02322b89c"
      },
      "execution_count": 15,
      "outputs": [
        {
          "output_type": "stream",
          "name": "stdout",
          "text": [
            "   Courses    Fee Duration  Discount\n",
            "0     HTML  60000   20days      6000\n",
            "1    Spark  22000   30days      1000\n",
            "2  PySpark  25000   50days      2300\n",
            "3   Hadoop  23000   30days      1000\n",
            "4   Python  24000     None      1200\n",
            "5   Pandas  26000      NaN      2500\n"
          ]
        }
      ]
    },
    {
      "cell_type": "code",
      "source": [
        "\n",
        "df2=df[df[\"Courses\"] == 'Spark'] \n",
        "print(df2)\n"
      ],
      "metadata": {
        "colab": {
          "base_uri": "https://localhost:8080/"
        },
        "id": "VbDkNYrOAkuI",
        "outputId": "c0bd3487-70b2-47e8-9798-2016fc18cf9f"
      },
      "execution_count": 16,
      "outputs": [
        {
          "output_type": "stream",
          "name": "stdout",
          "text": [
            "  Courses    Fee Duration  Discount\n",
            "1   Spark  22000   30days      1000\n"
          ]
        }
      ]
    },
    {
      "cell_type": "code",
      "source": [
        "\n",
        "value=\"Spark\"\n",
        "df2=df[df[\"Courses\"] == value] \n"
      ],
      "metadata": {
        "id": "hKriaZIzAqqm"
      },
      "execution_count": 17,
      "outputs": []
    },
    {
      "cell_type": "code",
      "source": [
        "df[df[\"Courses\"] != 'Spark']\n"
      ],
      "metadata": {
        "colab": {
          "base_uri": "https://localhost:8080/",
          "height": 206
        },
        "id": "v0J0fYyPAws1",
        "outputId": "32b24647-a7a2-4723-b97b-4cbc8d0aaa31"
      },
      "execution_count": 18,
      "outputs": [
        {
          "output_type": "execute_result",
          "data": {
            "text/plain": [
              "   Courses    Fee Duration  Discount\n",
              "0     HTML  60000   20days      6000\n",
              "2  PySpark  25000   50days      2300\n",
              "3   Hadoop  23000   30days      1000\n",
              "4   Python  24000     None      1200\n",
              "5   Pandas  26000      NaN      2500"
            ],
            "text/html": [
              "\n",
              "  <div id=\"df-3239bb6d-0198-4dad-bd59-8676b3ff3595\">\n",
              "    <div class=\"colab-df-container\">\n",
              "      <div>\n",
              "<style scoped>\n",
              "    .dataframe tbody tr th:only-of-type {\n",
              "        vertical-align: middle;\n",
              "    }\n",
              "\n",
              "    .dataframe tbody tr th {\n",
              "        vertical-align: top;\n",
              "    }\n",
              "\n",
              "    .dataframe thead th {\n",
              "        text-align: right;\n",
              "    }\n",
              "</style>\n",
              "<table border=\"1\" class=\"dataframe\">\n",
              "  <thead>\n",
              "    <tr style=\"text-align: right;\">\n",
              "      <th></th>\n",
              "      <th>Courses</th>\n",
              "      <th>Fee</th>\n",
              "      <th>Duration</th>\n",
              "      <th>Discount</th>\n",
              "    </tr>\n",
              "  </thead>\n",
              "  <tbody>\n",
              "    <tr>\n",
              "      <th>0</th>\n",
              "      <td>HTML</td>\n",
              "      <td>60000</td>\n",
              "      <td>20days</td>\n",
              "      <td>6000</td>\n",
              "    </tr>\n",
              "    <tr>\n",
              "      <th>2</th>\n",
              "      <td>PySpark</td>\n",
              "      <td>25000</td>\n",
              "      <td>50days</td>\n",
              "      <td>2300</td>\n",
              "    </tr>\n",
              "    <tr>\n",
              "      <th>3</th>\n",
              "      <td>Hadoop</td>\n",
              "      <td>23000</td>\n",
              "      <td>30days</td>\n",
              "      <td>1000</td>\n",
              "    </tr>\n",
              "    <tr>\n",
              "      <th>4</th>\n",
              "      <td>Python</td>\n",
              "      <td>24000</td>\n",
              "      <td>None</td>\n",
              "      <td>1200</td>\n",
              "    </tr>\n",
              "    <tr>\n",
              "      <th>5</th>\n",
              "      <td>Pandas</td>\n",
              "      <td>26000</td>\n",
              "      <td>NaN</td>\n",
              "      <td>2500</td>\n",
              "    </tr>\n",
              "  </tbody>\n",
              "</table>\n",
              "</div>\n",
              "      <button class=\"colab-df-convert\" onclick=\"convertToInteractive('df-3239bb6d-0198-4dad-bd59-8676b3ff3595')\"\n",
              "              title=\"Convert this dataframe to an interactive table.\"\n",
              "              style=\"display:none;\">\n",
              "        \n",
              "  <svg xmlns=\"http://www.w3.org/2000/svg\" height=\"24px\"viewBox=\"0 0 24 24\"\n",
              "       width=\"24px\">\n",
              "    <path d=\"M0 0h24v24H0V0z\" fill=\"none\"/>\n",
              "    <path d=\"M18.56 5.44l.94 2.06.94-2.06 2.06-.94-2.06-.94-.94-2.06-.94 2.06-2.06.94zm-11 1L8.5 8.5l.94-2.06 2.06-.94-2.06-.94L8.5 2.5l-.94 2.06-2.06.94zm10 10l.94 2.06.94-2.06 2.06-.94-2.06-.94-.94-2.06-.94 2.06-2.06.94z\"/><path d=\"M17.41 7.96l-1.37-1.37c-.4-.4-.92-.59-1.43-.59-.52 0-1.04.2-1.43.59L10.3 9.45l-7.72 7.72c-.78.78-.78 2.05 0 2.83L4 21.41c.39.39.9.59 1.41.59.51 0 1.02-.2 1.41-.59l7.78-7.78 2.81-2.81c.8-.78.8-2.07 0-2.86zM5.41 20L4 18.59l7.72-7.72 1.47 1.35L5.41 20z\"/>\n",
              "  </svg>\n",
              "      </button>\n",
              "      \n",
              "  <style>\n",
              "    .colab-df-container {\n",
              "      display:flex;\n",
              "      flex-wrap:wrap;\n",
              "      gap: 12px;\n",
              "    }\n",
              "\n",
              "    .colab-df-convert {\n",
              "      background-color: #E8F0FE;\n",
              "      border: none;\n",
              "      border-radius: 50%;\n",
              "      cursor: pointer;\n",
              "      display: none;\n",
              "      fill: #1967D2;\n",
              "      height: 32px;\n",
              "      padding: 0 0 0 0;\n",
              "      width: 32px;\n",
              "    }\n",
              "\n",
              "    .colab-df-convert:hover {\n",
              "      background-color: #E2EBFA;\n",
              "      box-shadow: 0px 1px 2px rgba(60, 64, 67, 0.3), 0px 1px 3px 1px rgba(60, 64, 67, 0.15);\n",
              "      fill: #174EA6;\n",
              "    }\n",
              "\n",
              "    [theme=dark] .colab-df-convert {\n",
              "      background-color: #3B4455;\n",
              "      fill: #D2E3FC;\n",
              "    }\n",
              "\n",
              "    [theme=dark] .colab-df-convert:hover {\n",
              "      background-color: #434B5C;\n",
              "      box-shadow: 0px 1px 3px 1px rgba(0, 0, 0, 0.15);\n",
              "      filter: drop-shadow(0px 1px 2px rgba(0, 0, 0, 0.3));\n",
              "      fill: #FFFFFF;\n",
              "    }\n",
              "  </style>\n",
              "\n",
              "      <script>\n",
              "        const buttonEl =\n",
              "          document.querySelector('#df-3239bb6d-0198-4dad-bd59-8676b3ff3595 button.colab-df-convert');\n",
              "        buttonEl.style.display =\n",
              "          google.colab.kernel.accessAllowed ? 'block' : 'none';\n",
              "\n",
              "        async function convertToInteractive(key) {\n",
              "          const element = document.querySelector('#df-3239bb6d-0198-4dad-bd59-8676b3ff3595');\n",
              "          const dataTable =\n",
              "            await google.colab.kernel.invokeFunction('convertToInteractive',\n",
              "                                                     [key], {});\n",
              "          if (!dataTable) return;\n",
              "\n",
              "          const docLinkHtml = 'Like what you see? Visit the ' +\n",
              "            '<a target=\"_blank\" href=https://colab.research.google.com/notebooks/data_table.ipynb>data table notebook</a>'\n",
              "            + ' to learn more about interactive tables.';\n",
              "          element.innerHTML = '';\n",
              "          dataTable['output_type'] = 'display_data';\n",
              "          await google.colab.output.renderOutput(dataTable, element);\n",
              "          const docLink = document.createElement('div');\n",
              "          docLink.innerHTML = docLinkHtml;\n",
              "          element.appendChild(docLink);\n",
              "        }\n",
              "      </script>\n",
              "    </div>\n",
              "  </div>\n",
              "  "
            ]
          },
          "metadata": {},
          "execution_count": 18
        }
      ]
    },
    {
      "cell_type": "code",
      "source": [
        "\n",
        "df2=df.query(\"Courses == 'Spark'\")\n",
        "print(df2)\n"
      ],
      "metadata": {
        "colab": {
          "base_uri": "https://localhost:8080/"
        },
        "id": "LrAHqXqhA7vr",
        "outputId": "b6a8df2a-c4cc-4901-f146-2cc07f1c692b"
      },
      "execution_count": 8,
      "outputs": [
        {
          "output_type": "stream",
          "name": "stdout",
          "text": [
            "  Courses    Fee Duration  Discount\n",
            "0   Spark  22000   30days      1000\n"
          ]
        }
      ]
    },
    {
      "cell_type": "code",
      "source": [
        "# Filter Rows Based on List of Values\n",
        "values=[\"Spark\",\"PySpark\"]\n",
        "print(df[df[\"Courses\"].isin(values)] )\n",
        "# Using df.loc\n",
        "print(df.loc[df['Courses'].isin(values)]) "
      ],
      "metadata": {
        "colab": {
          "base_uri": "https://localhost:8080/"
        },
        "id": "867VO7z8A-7v",
        "outputId": "a7246b92-d27a-42cc-e9cd-f5d93ad352e6"
      },
      "execution_count": 19,
      "outputs": [
        {
          "output_type": "stream",
          "name": "stdout",
          "text": [
            "   Courses    Fee Duration  Discount\n",
            "1    Spark  22000   30days      1000\n",
            "2  PySpark  25000   50days      2300\n",
            "   Courses    Fee Duration  Discount\n",
            "1    Spark  22000   30days      1000\n",
            "2  PySpark  25000   50days      2300\n"
          ]
        }
      ]
    },
    {
      "cell_type": "code",
      "source": [
        "\n",
        "df2=df.loc[~df['Courses'].isin(values)]\n",
        "print(df2)\n"
      ],
      "metadata": {
        "colab": {
          "base_uri": "https://localhost:8080/"
        },
        "id": "z0wNo38sBF-9",
        "outputId": "129a6b9c-f620-46cb-f688-f6aefe0559b8"
      },
      "execution_count": 20,
      "outputs": [
        {
          "output_type": "stream",
          "name": "stdout",
          "text": [
            "  Courses    Fee Duration  Discount\n",
            "0    HTML  60000   20days      6000\n",
            "3  Hadoop  23000   30days      1000\n",
            "4  Python  24000     None      1200\n",
            "5  Pandas  26000      NaN      2500\n"
          ]
        }
      ]
    },
    {
      "cell_type": "code",
      "source": [
        "\n",
        "# By using lambda function\n",
        "print(df.apply(lambda row: row[df['Courses'].isin(['Spark','PySpark'])]))\n"
      ],
      "metadata": {
        "colab": {
          "base_uri": "https://localhost:8080/"
        },
        "id": "TcCdDYMpBNgE",
        "outputId": "b9e9d790-3e1e-47bf-e9dd-681cf1466426"
      },
      "execution_count": 21,
      "outputs": [
        {
          "output_type": "stream",
          "name": "stdout",
          "text": [
            "   Courses    Fee Duration  Discount\n",
            "1    Spark  22000   30days      1000\n",
            "2  PySpark  25000   50days      2300\n"
          ]
        }
      ]
    },
    {
      "cell_type": "code",
      "source": [
        "# Filter rows by ignoreing columns \n",
        "# that have None & Nan values\n",
        "print(df.dropna())"
      ],
      "metadata": {
        "colab": {
          "base_uri": "https://localhost:8080/"
        },
        "id": "crMsk8qXBQ0h",
        "outputId": "98f5740e-ca2c-45fe-9a02-ee3a8ebb77c7"
      },
      "execution_count": 22,
      "outputs": [
        {
          "output_type": "stream",
          "name": "stdout",
          "text": [
            "   Courses    Fee Duration  Discount\n",
            "0     HTML  60000   20days      6000\n",
            "1    Spark  22000   30days      1000\n",
            "2  PySpark  25000   50days      2300\n",
            "3   Hadoop  23000   30days      1000\n"
          ]
        }
      ]
    },
    {
      "cell_type": "code",
      "source": [
        "\n",
        "print(df.dropna(axis='columns'))\n"
      ],
      "metadata": {
        "colab": {
          "base_uri": "https://localhost:8080/"
        },
        "id": "waQ-utRjBT2z",
        "outputId": "94710ca8-6cef-4377-a3f0-7985120f92ee"
      },
      "execution_count": 23,
      "outputs": [
        {
          "output_type": "stream",
          "name": "stdout",
          "text": [
            "   Courses    Fee  Discount\n",
            "0     HTML  60000      6000\n",
            "1    Spark  22000      1000\n",
            "2  PySpark  25000      2300\n",
            "3   Hadoop  23000      1000\n",
            "4   Python  24000      1200\n",
            "5   Pandas  26000      2500\n"
          ]
        }
      ]
    },
    {
      "cell_type": "code",
      "source": [
        "\n",
        "# Filter based on value contains\n",
        "print(df[df['Courses'].str.contains(\"Spark\")])\n",
        "\n",
        "# Filter after converting values\n",
        "print(df[df['Courses'].str.lower().str.contains(\"spark\")])\n",
        "\n",
        "#Filter startswith\n",
        "print(df[df['Courses'].str.startswith(\"P\")])\n"
      ],
      "metadata": {
        "colab": {
          "base_uri": "https://localhost:8080/"
        },
        "id": "L1YqajgPBZF4",
        "outputId": "5704e1ed-1c4d-45b9-e8b9-0372d95eef21"
      },
      "execution_count": 24,
      "outputs": [
        {
          "output_type": "stream",
          "name": "stdout",
          "text": [
            "   Courses    Fee Duration  Discount\n",
            "1    Spark  22000   30days      1000\n",
            "2  PySpark  25000   50days      2300\n",
            "   Courses    Fee Duration  Discount\n",
            "1    Spark  22000   30days      1000\n",
            "2  PySpark  25000   50days      2300\n",
            "   Courses    Fee Duration  Discount\n",
            "2  PySpark  25000   50days      2300\n",
            "4   Python  24000     None      1200\n",
            "5   Pandas  26000      NaN      2500\n"
          ]
        }
      ]
    }
  ]
}